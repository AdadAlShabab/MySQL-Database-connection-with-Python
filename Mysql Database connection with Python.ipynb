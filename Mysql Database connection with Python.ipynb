{
 "cells": [
  {
   "cell_type": "code",
   "execution_count": 1,
   "id": "718bde75",
   "metadata": {},
   "outputs": [
    {
     "name": "stdout",
     "output_type": "stream",
     "text": [
      "Defaulting to user installation because normal site-packages is not writeable\n",
      "Collecting mysql\n",
      "  Downloading mysql-0.0.3-py3-none-any.whl (1.2 kB)\n",
      "Collecting mysqlclient (from mysql)\n",
      "  Downloading mysqlclient-2.2.0-cp311-cp311-win_amd64.whl.metadata (4.5 kB)\n",
      "Downloading mysqlclient-2.2.0-cp311-cp311-win_amd64.whl (199 kB)\n",
      "   ---------------------------------------- 0.0/200.0 kB ? eta -:--:--\n",
      "   -- ------------------------------------- 10.2/200.0 kB ? eta -:--:--\n",
      "   ------ --------------------------------- 30.7/200.0 kB 1.3 MB/s eta 0:00:01\n",
      "   ------- ------------------------------- 41.0/200.0 kB 393.8 kB/s eta 0:00:01\n",
      "   ----------- --------------------------- 61.4/200.0 kB 363.1 kB/s eta 0:00:01\n",
      "   ----------------- --------------------- 92.2/200.0 kB 435.7 kB/s eta 0:00:01\n",
      "   --------------------------- ---------- 143.4/200.0 kB 568.9 kB/s eta 0:00:01\n",
      "   --------------------------- ---------- 143.4/200.0 kB 568.9 kB/s eta 0:00:01\n",
      "   --------------------------- ---------- 143.4/200.0 kB 568.9 kB/s eta 0:00:01\n",
      "   --------------------------------- ---- 174.1/200.0 kB 436.9 kB/s eta 0:00:01\n",
      "   -------------------------------------- 200.0/200.0 kB 449.6 kB/s eta 0:00:00\n",
      "Installing collected packages: mysqlclient, mysql\n",
      "Successfully installed mysql-0.0.3 mysqlclient-2.2.0\n"
     ]
    }
   ],
   "source": [
    "!pip install mysql"
   ]
  },
  {
   "cell_type": "code",
   "execution_count": 2,
   "id": "86a8c0f0",
   "metadata": {},
   "outputs": [
    {
     "name": "stdout",
     "output_type": "stream",
     "text": [
      "Requirement already satisfied: mysql-connector-python in c:\\program files\\python38\\lib\\site-packages (8.0.33)\n",
      "Collecting protobuf<=3.20.3,>=3.11.0 (from mysql-connector-python)\n",
      "  Using cached protobuf-3.20.3-cp38-cp38-win_amd64.whl (904 kB)\n",
      "Installing collected packages: protobuf\n",
      "  Attempting uninstall: protobuf\n",
      "    Found existing installation: protobuf 4.23.2\n",
      "    Uninstalling protobuf-4.23.2:\n",
      "      Successfully uninstalled protobuf-4.23.2\n",
      "Successfully installed protobuf-3.20.3\n",
      "Note: you may need to restart the kernel to use updated packages.\n"
     ]
    },
    {
     "name": "stderr",
     "output_type": "stream",
     "text": [
      "\n",
      "[notice] A new release of pip is available: 23.1.2 -> 23.3.1\n",
      "[notice] To update, run: c:\\program files\\python38\\python.exe -m pip install --upgrade pip\n"
     ]
    }
   ],
   "source": [
    "pip install mysql-connector-python"
   ]
  },
  {
   "cell_type": "code",
   "execution_count": 3,
   "id": "1e145440",
   "metadata": {},
   "outputs": [],
   "source": [
    "import mysql.connector"
   ]
  },
  {
   "cell_type": "code",
   "execution_count": 4,
   "id": "3f5f7d12",
   "metadata": {},
   "outputs": [],
   "source": [
    "from mysql.connector import Error"
   ]
  },
  {
   "cell_type": "code",
   "execution_count": 5,
   "id": "ba02659c",
   "metadata": {},
   "outputs": [],
   "source": [
    "import pandas as pd"
   ]
  },
  {
   "cell_type": "code",
   "execution_count": 8,
   "id": "b8c11044",
   "metadata": {},
   "outputs": [
    {
     "name": "stdout",
     "output_type": "stream",
     "text": [
      "Mysql connection has been established\n"
     ]
    }
   ],
   "source": [
    "def create_connection(host_name,user_name,password):\n",
    "  connection = None\n",
    "  try:\n",
    "    connection = mysql.connector.connect(host=host_name, user=user_name,passwd=password)\n",
    "    print(\"Mysql connection has been established\")\n",
    "  except Error as err:\n",
    "    print(f\"Error: '{err}'\")\n",
    "  \n",
    "  return connection\n",
    "\n",
    "password = 'Your database connection password'\n",
    "\n",
    "main_connection = create_connection(\"localhost\",\"root\",password)\n"
   ]
  },
  {
   "cell_type": "code",
   "execution_count": 10,
   "id": "83751c0c",
   "metadata": {},
   "outputs": [
    {
     "name": "stdout",
     "output_type": "stream",
     "text": [
      "Database created successfully\n"
     ]
    }
   ],
   "source": [
    "def createDatabase_query(main_connection, query):\n",
    "    cursor = main_connection.cursor()\n",
    "    try:\n",
    "        cursor.execute(query)\n",
    "        print(\"Database created successfully\")\n",
    "    except Error as err:\n",
    "        print(f\"Error: '{err}'\")\n",
    "\n",
    "        \n",
    "database_name='python_conn'\n",
    "database_query =f'create database {database_name}'\n",
    "\n",
    "createDatabase_query(main_connection, database_query)"
   ]
  },
  {
   "cell_type": "code",
   "execution_count": 11,
   "id": "46f44ff2",
   "metadata": {},
   "outputs": [
    {
     "name": "stdout",
     "output_type": "stream",
     "text": [
      "Mysql database has been established\n"
     ]
    }
   ],
   "source": [
    "def database_connection(host_name,user_name,password,db_name):\n",
    "  connection = None\n",
    "  try:\n",
    "    connection = mysql.connector.connect(host=host_name, user=user_name,passwd=password,database=db_name)\n",
    "    print(\"Mysql database has been established\")\n",
    "  except Error as err:\n",
    "    print(f\"Error: '{err}'\")\n",
    "  \n",
    "  return connection\n",
    "\n",
    "connection = database_connection(\"localhost\",\"root\",password,database_name)"
   ]
  },
  {
   "cell_type": "code",
   "execution_count": 12,
   "id": "74e79a95",
   "metadata": {},
   "outputs": [],
   "source": [
    "def execute_query(connection, query):\n",
    "    cursor = connection.cursor()\n",
    "    try:\n",
    "        cursor.execute(query)\n",
    "        connection.commit()\n",
    "        print(\"Query executed.\")\n",
    "    except Error as err:\n",
    "        print(f\"Error: '{err}'\")"
   ]
  },
  {
   "cell_type": "code",
   "execution_count": 20,
   "id": "645262cf",
   "metadata": {},
   "outputs": [
    {
     "name": "stdout",
     "output_type": "stream",
     "text": [
      "Query executed.\n"
     ]
    }
   ],
   "source": [
    "insert_query=\"\"\"\n",
    "create table Data(\n",
    "pid int auto_increment primary key,\n",
    "pname varchar(255) not null,\n",
    "address varchar(255) default null,\n",
    "email varchar(255) unique key,\n",
    "age int,\n",
    "height decimal(10,2),\n",
    "enroll_date timestamp not null,\n",
    "course_starting_date date not null);\"\"\"\n",
    "\n",
    "execute_query(connection, insert_query)"
   ]
  },
  {
   "cell_type": "code",
   "execution_count": 22,
   "id": "b1028c56",
   "metadata": {},
   "outputs": [
    {
     "name": "stdout",
     "output_type": "stream",
     "text": [
      "Mysql database has been established\n",
      "Query executed.\n"
     ]
    }
   ],
   "source": [
    "insert_data_query =\"\"\"\n",
    "insert into Data values\n",
    "(1,'Mike','340A','mike12@gmail.com',26,5.83,'2023-10-25','2023-10-25'),\n",
    "(2,'Shinoda','341A','shinoda12@gmail.com',28,5.93,'2023-10-25','2023-10-24'),\n",
    "(3,'Xiomi','340A','xiomi@gmail.com',27,5.93,'2023-10-23 11:32:08','2023-10-24');\n",
    "\"\"\"\n",
    "execute_query(connection, insert_data_query)"
   ]
  },
  {
   "cell_type": "code",
   "execution_count": 24,
   "id": "6b234758",
   "metadata": {},
   "outputs": [],
   "source": [
    "def read_data_query_execute(connection, query):\n",
    "    cursor = connection.cursor()\n",
    "    result = None\n",
    "    try:\n",
    "        cursor.execute(query)\n",
    "        result = cursor.fetchall()\n",
    "        return result\n",
    "    except Error as err:\n",
    "        print(f\"Error: '{err}'\")\n",
    "        \n",
    "read_data_query='select * from Data'\n",
    "results = read_data_query_execute(connection, read_data_query)"
   ]
  },
  {
   "cell_type": "code",
   "execution_count": 29,
   "id": "e8627b7f",
   "metadata": {},
   "outputs": [
    {
     "name": "stdout",
     "output_type": "stream",
     "text": [
      "(1, 'Mike', '340A', 'mike12@gmail.com', 26, Decimal('5.83'), datetime.datetime(2023, 10, 25, 0, 0), datetime.date(2023, 10, 25))\n",
      "(2, 'Shinoda', '341A', 'shinoda12@gmail.com', 28, Decimal('5.93'), datetime.datetime(2023, 10, 25, 0, 0), datetime.date(2023, 10, 24))\n",
      "(3, 'Xiomi', '340A', 'xiomi@gmail.com', 27, Decimal('5.93'), datetime.datetime(2023, 10, 23, 11, 32, 8), datetime.date(2023, 10, 24))\n"
     ]
    }
   ],
   "source": [
    "for i in list(results):\n",
    "    print(i)"
   ]
  },
  {
   "cell_type": "code",
   "execution_count": 32,
   "id": "82e4712f",
   "metadata": {},
   "outputs": [
    {
     "name": "stdout",
     "output_type": "stream",
     "text": [
      "(3, 'Xiomi', '340A', 'xiomi@gmail.com', 27, Decimal('5.93'), datetime.datetime(2023, 10, 23, 11, 32, 8), datetime.date(2023, 10, 24))\n"
     ]
    }
   ],
   "source": [
    "read_pattern_data_query=\"select * from Data where pname like '%i' \"\n",
    "\n",
    "pattern_results = read_data_query_execute(connection, read_pattern_data_query)\n",
    "for i in list(pattern_results):\n",
    "    print(i)"
   ]
  },
  {
   "cell_type": "code",
   "execution_count": null,
   "id": "3a309fd6",
   "metadata": {},
   "outputs": [],
   "source": []
  }
 ],
 "metadata": {
  "kernelspec": {
   "display_name": "Python 3 (ipykernel)",
   "language": "python",
   "name": "python3"
  },
  "language_info": {
   "codemirror_mode": {
    "name": "ipython",
    "version": 3
   },
   "file_extension": ".py",
   "mimetype": "text/x-python",
   "name": "python",
   "nbconvert_exporter": "python",
   "pygments_lexer": "ipython3",
   "version": "3.8.2"
  }
 },
 "nbformat": 4,
 "nbformat_minor": 5
}
